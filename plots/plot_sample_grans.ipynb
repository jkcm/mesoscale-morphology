{
 "cells": [
  {
   "cell_type": "code",
   "execution_count": 2,
   "metadata": {},
   "outputs": [
    {
     "name": "stdout",
     "output_type": "stream",
     "text": [
      "BOGIES\n"
     ]
    }
   ],
   "source": [
    "\n",
    "\n",
    "from classified_cset import utils\n",
    "import xarray as xr\n",
    "import matplotlib.pyplot as plt\n",
    "from mpl_toolkits.basemap import Basemap\n",
    "from scipy.interpolate import interp1d\n",
    "import matplotlib as mpl\n",
    "from matplotlib.colorbar import make_axes\n",
    "import datetime as dt\n",
    "import matplotlib.gridspec as gridspec\n",
    "import glob\n",
    "import pandas as pd\n",
    "import numpy as np\n",
    "import random\n",
    "%load_ext autoreload\n",
    "%autoreload 2\n",
    "print('BOGIES')"
   ]
  },
  {
   "cell_type": "code",
   "execution_count": 3,
   "metadata": {},
   "outputs": [],
   "source": [
    "cset_class_df = utils.load_class_data('cset')\n",
    "class_by_gran = cset_class_df.groupby('granule')"
   ]
  },
  {
   "cell_type": "code",
   "execution_count": 3,
   "metadata": {},
   "outputs": [],
   "source": [
    "# all_class_df = utils.load_class_data('all')\n",
    "# sep_class_df = all_class_df[all_class_df['loc']=='SEP']\n",
    "# class_by_gran = sep_class_df.groupby('granule')"
   ]
  },
  {
   "cell_type": "code",
   "execution_count": 4,
   "metadata": {},
   "outputs": [],
   "source": [
    "#want scenes with at least some of each type\n",
    "count_scenes_by_gran = {}\n",
    "for i, df_sub in class_by_gran:\n",
    "    count_dict = {i: 0 for i in range(6)}\n",
    "    df_split = df_sub.groupby('cat')\n",
    "    for j,k in df_split:\n",
    "        count_dict[j] = len(k)\n",
    "    count_scenes_by_gran[i] = count_dict \n",
    "nice_grans_2 = [g for g,f in count_scenes_by_gran.items() if np.all([f[i]>5 for i in range(6)])]"
   ]
  },
  {
   "cell_type": "code",
   "execution_count": 4,
   "metadata": {},
   "outputs": [
    {
     "data": {
      "text/plain": [
       "True"
      ]
     },
     "execution_count": 4,
     "metadata": {},
     "output_type": "execute_result"
    }
   ],
   "source": [
    "best_gran = 'MYD021KM.A2015203.2245'\n",
    "hurricane_gran = 'MYD021KM.A2015215.0005'\n",
    "good2gran = 'MYD021KM.A2015208.0000'\n",
    "\n",
    "plot_gran = best_gran\n",
    "plot_gran in class_by_gran.groups.keys()"
   ]
  },
  {
   "cell_type": "code",
   "execution_count": 7,
   "metadata": {},
   "outputs": [],
   "source": [
    "def load_MODIS_granule(granule_name):\n",
    "    mydatml2_files = glob.glob(f'/home/disk/eos4/jkcm/Data/MEASURES/MODIS_downloads/MYDATML2/MYDATML2{granule_name[8:]}*.hdf')\n",
    "    myd021km_files = glob.glob(f'/home/disk/eos9/jkcm/Data/modis/MYD021KM_keep/MYD021KM{granule_name[8:]}*.hdf')\n",
    "#     myd021km_files = glob.glob(f'/home/disk/eos9/jkcm/Data/modis/SEP/MYD021KM{granule_name[8:]}*.hdf')\n",
    "    myd03_files = glob.glob(f'/home/disk/eos9/jkcm/Data/modis/MYD03/MYD03{granule_name[8:]}*.hdf')\n",
    "#     myd03_files = glob.glob(f'/home/disk/eos9/jkcm/Data/modis/SEP/MYD03{granule_name[8:]}*.hdf')\n",
    "\n",
    "    if not len(myd021km_files) == 1: \n",
    "        raise ValueError('no MYD02 data found for ' + granule_name)\n",
    "\n",
    "    if not len(myd03_files) == 1: \n",
    "        raise ValueError('no MYD03 data found for ' + granule_name)\n",
    "    modis_data = xr.open_dataset(myd021km_files[0])\n",
    "#     atml2_data = xr.open_dataset(mydatml2_files[0])\n",
    "    myd03_data = xr.open_dataset(myd03_files[0], drop_variables=['Scan Type'])\n",
    "    modis_data = modis_data.rename({\n",
    "                   'Band_250M:MODIS_SWATH_Type_L1B': 'Band_250M',\n",
    "                   'Band_1KM_Emissive:MODIS_SWATH_Type_L1B': 'Band_1KM_Emissive',\n",
    "                   'Band_1KM_RefSB:MODIS_SWATH_Type_L1B': 'Band_1KM_RefSB',\n",
    "                   'Band_500M:MODIS_SWATH_Type_L1B': 'Band_500M',\n",
    "                   '10*nscans:MODIS_SWATH_Type_L1B': '10*nscans',\n",
    "                   '1KM_geo_dim:MODIS_SWATH_Type_L1B': '1KM_geo_dim',\n",
    "                   '2*nscans:MODIS_SWATH_Type_L1B': '2*nscans',\n",
    "                   'Max_EV_frames:MODIS_SWATH_Type_L1B': 'Max_EV_frames'})\n",
    "    return modis_data, myd03_data"
   ]
  },
  {
   "cell_type": "code",
   "execution_count": 14,
   "metadata": {},
   "outputs": [
    {
     "name": "stdout",
     "output_type": "stream",
     "text": [
      "no MYD02 data found for MYD021KM.A2015182.0100\n",
      "no MYD02 data found for MYD021KM.A2015182.2045\n",
      "no MYD02 data found for MYD021KM.A2015183.0005\n",
      "no MYD02 data found for MYD021KM.A2015183.2310\n",
      "no MYD02 data found for MYD021KM.A2015186.0035\n",
      "no MYD02 data found for MYD021KM.A2015186.2340\n",
      "no MYD02 data found for MYD021KM.A2015187.2245\n",
      "no MYD02 data found for MYD021KM.A2015188.0025\n",
      "no MYD02 data found for MYD021KM.A2015188.2145\n",
      "no MYD02 data found for MYD021KM.A2015188.2150\n",
      "no MYD02 data found for MYD021KM.A2015188.2330\n",
      "no MYD02 data found for MYD021KM.A2015189.0105\n",
      "no MYD02 data found for MYD021KM.A2015190.0010\n",
      "no MYD02 data found for MYD021KM.A2015190.0015\n",
      "no MYD02 data found for MYD021KM.A2015191.0055\n",
      "no MYD02 data found for MYD021KM.A2015192.0000\n",
      "no MYD02 data found for MYD021KM.A2015192.2300\n",
      "no MYD02 data found for MYD021KM.A2015193.0045\n",
      "no MYD02 data found for MYD021KM.A2015193.2345\n",
      "no MYD02 data found for MYD021KM.A2015194.2250\n",
      "no MYD02 data found for MYD021KM.A2015195.0025\n",
      "no MYD02 data found for MYD021KM.A2015195.0030\n",
      "no MYD02 data found for MYD021KM.A2015195.2330\n",
      "no MYD02 data found for MYD021KM.A2015195.2335\n",
      "no MYD02 data found for MYD021KM.A2015196.0110\n",
      "no MYD02 data found for MYD021KM.A2015197.0015\n",
      "no MYD02 data found for MYD021KM.A2015197.2320\n",
      "no MYD02 data found for MYD021KM.A2015197.2325\n",
      "worked\n",
      "worked\n",
      "worked\n",
      "worked\n",
      "worked\n",
      "worked\n",
      "worked\n",
      "no MYD02 data found for MYD021KM.A2015202.2200\n",
      "no MYD02 data found for MYD021KM.A2015202.2340\n",
      "no MYD02 data found for MYD021KM.A2015203.2245\n",
      "no MYD02 data found for MYD021KM.A2015204.0025\n",
      "no MYD02 data found for MYD021KM.A2015204.2150\n",
      "no MYD02 data found for MYD021KM.A2015204.2330\n",
      "no MYD02 data found for MYD021KM.A2015206.0010\n",
      "no MYD02 data found for MYD021KM.A2015206.2315\n",
      "no MYD02 data found for MYD021KM.A2015207.2220\n",
      "worked\n",
      "worked\n",
      "worked\n",
      "worked\n",
      "worked\n",
      "worked\n",
      "no MYD02 data found for MYD021KM.A2015213.2140\n",
      "no MYD02 data found for MYD021KM.A2015213.2325\n",
      "no MYD02 data found for MYD021KM.A2015215.0005\n",
      "no MYD02 data found for MYD021KM.A2015215.2310\n",
      "no MYD02 data found for MYD021KM.A2015216.2210\n",
      "no MYD02 data found for MYD021KM.A2015216.2215\n",
      "no MYD02 data found for MYD021KM.A2015216.2350\n",
      "no MYD02 data found for MYD021KM.A2015216.2355\n",
      "no MYD02 data found for MYD021KM.A2015217.2300\n",
      "no MYD02 data found for MYD021KM.A2015218.0035\n",
      "no MYD02 data found for MYD021KM.A2015218.2340\n",
      "no MYD02 data found for MYD021KM.A2015219.2245\n",
      "no MYD02 data found for MYD021KM.A2015220.0025\n",
      "no MYD02 data found for MYD021KM.A2015220.2330\n",
      "no MYD02 data found for MYD021KM.A2015221.2235\n",
      "no MYD02 data found for MYD021KM.A2015222.0010\n",
      "no MYD02 data found for MYD021KM.A2015223.0055\n",
      "no MYD02 data found for MYD021KM.A2015223.2220\n",
      "no MYD02 data found for MYD021KM.A2015224.0000\n",
      "no MYD02 data found for MYD021KM.A2015225.0040\n",
      "no MYD02 data found for MYD021KM.A2015225.2210\n",
      "no MYD02 data found for MYD021KM.A2015225.2345\n",
      "no MYD02 data found for MYD021KM.A2015225.2350\n",
      "no MYD02 data found for MYD021KM.A2015226.2250\n",
      "no MYD02 data found for MYD021KM.A2015230.0055\n",
      "no MYD02 data found for MYD021KM.A2015231.0005\n",
      "no MYD02 data found for MYD021KM.A2015232.0050\n",
      "no MYD02 data found for MYD021KM.A2015232.2355\n",
      "no MYD02 data found for MYD021KM.A2015234.0035\n",
      "no MYD02 data found for MYD021KM.A2015234.2200\n",
      "no MYD02 data found for MYD021KM.A2015235.2245\n",
      "no MYD02 data found for MYD021KM.A2015236.0025\n",
      "no MYD02 data found for MYD021KM.A2015238.2315\n",
      "no MYD02 data found for MYD021KM.A2015240.0000\n",
      "no MYD02 data found for MYD021KM.A2015240.2305\n",
      "no MYD02 data found for MYD021KM.A2015241.2210\n",
      "no MYD02 data found for MYD021KM.A2015241.2345\n",
      "no MYD02 data found for MYD021KM.A2015243.2335\n"
     ]
    }
   ],
   "source": [
    "nice_grans = [g for g,f in count_scenes_by_gran.items() if np.all([f[i]>25 for i in [1, 5]])]\n",
    "# nice_grans = random.sample(nice_grans, 10)\n",
    "for gran in nice_grans:\n",
    "    try:\n",
    "        load_MODIS_granule(gran)\n",
    "        print('worked')\n",
    "    except ValueError as e:\n",
    "        print(e)\n",
    "        continue"
   ]
  },
  {
   "cell_type": "code",
   "execution_count": 9,
   "metadata": {},
   "outputs": [],
   "source": [
    "def get_rgb_reflectance(modis_data):\n",
    "    \n",
    "    red_band = np.nonzero(modis_data.Band_250M.values == 1)[0][0]\n",
    "    green_band = np.nonzero(modis_data.Band_500M.values == 4)[0][0]\n",
    "    blue_band = np.nonzero(modis_data.Band_500M.values == 3)[0][0]\n",
    "    \n",
    "    red = modis_data['EV_250_Aggr1km_RefSB'].sel({'Band_250M': 1})\n",
    "    green = modis_data['EV_500_Aggr1km_RefSB'].sel({'Band_500M': 4})\n",
    "    blue = modis_data['EV_500_Aggr1km_RefSB'].sel({'Band_500M': 3})\n",
    "    \n",
    "    scales_500 = modis_data['EV_500_Aggr1km_RefSB'].reflectance_scales\n",
    "    offset_500 = modis_data['EV_500_Aggr1km_RefSB'].reflectance_offsets  \n",
    "    scales_250 = modis_data['EV_250_Aggr1km_RefSB'].reflectance_scales\n",
    "    offset_250 = modis_data['EV_250_Aggr1km_RefSB'].reflectance_offsets\n",
    "    \n",
    "    red_refl = (red-offset_250[red_band])*scales_250[red_band]\n",
    "    green_refl = (green-offset_500[green_band])*scales_500[green_band]\n",
    "    blue_refl = (blue-offset_500[blue_band])*scales_500[blue_band]\n",
    "    \n",
    "    rgb = np.dstack([red_refl, green_refl, blue_refl])\n",
    "    rgb[rgb<0] = 0\n",
    "    rgb[rgb>1] = 1\n",
    "\n",
    "    lin = np.array([0, 30, 60, 120, 190, 255]) / 255.0\n",
    "    nonlin = np.array([0, 110, 160, 210, 240, 255]) / 255.0\n",
    "    scale = interp1d(lin, nonlin, kind='quadratic')\n",
    "    scaled_rgb = scale(rgb) #not necessary but prettier?\n",
    "    return scaled_rgb"
   ]
  },
  {
   "cell_type": "code",
   "execution_count": 5,
   "metadata": {},
   "outputs": [],
   "source": [
    "def get_divergence(date):\n",
    "    ascat_file = f'/home/disk/eos9/jkcm/Data/ascat/rss/all/ascat_unified_{date.year}-{date.month:02}.nc'\n",
    "    ascat_data = xr.load_dataset(ascat_file)\n",
    "    ascat_data = ascat_data.sel(time=date.replace(hour=0, minute=0), method='nearest', tolerance=np.timedelta64(12, 'h'))\n",
    "    ascat_data = utils.get_ascat_divergence(ascat_data)\n",
    "    return(ascat_data)\n",
    "\n",
    "def get_MERRA(date):\n",
    "    MERRA_data = xr.open_dataset(r'/home/disk/eos4/jkcm/Data/CSET/MERRA/measures/MERRA_unified_subset.nc')\n",
    "    MERRA_data = MERRA_data.sel(time=date, method='nearest', tolerance=np.timedelta64(3, 'h'))\n",
    "#     ascat_data = ascat_data.sel(time=date.replace(hour=0, minute=0), method='nearest', tolerance=np.timedelta64(12, 'h'))\n",
    "#     ascat_data = utils.get_ascat_divergence(ascat_data)\n",
    "    return(MERRA_data)\n",
    "\n",
    "def get_SEP_MERRA(date):\n",
    "    MERRA_data = xr.open_dataset(\n",
    "            f'/home/disk/eos4/jkcm/Data/MERRA/measures/split/MERRA_unified_subset.{date.year}-{date.month:02}.nc', lock=False)\n",
    "    MERRA_data = MERRA_data.sel(time=date, method='nearest', tolerance=np.timedelta64(3, 'h'))\n",
    "    return MERRA_data\n",
    "\n",
    "def get_AMSR(date):\n",
    "    amsr_data = xr.open_dataset(r'/home/disk/eos4/jkcm/Data/CSET/amsr/AMSR2_CWV_CSET_fixed.nc')        \n",
    "    amsr_cwv = amsr_data.CWV.sel(time=date, method='nearest', tolerance=np.timedelta64(12, 'h'))\n",
    "    return(amsr_cwv)\n",
    "    \n",
    "def get_precip(date):\n",
    "    precip_data = xr.open_dataset(f'/home/disk/eos5/rmeast/rain_rates_89/2015/AMSR2_89GHz_pcp_est_2015_{date.dayofyear}_day.nc')\n",
    "    return(precip_data)"
   ]
  },
  {
   "cell_type": "code",
   "execution_count": 10,
   "metadata": {},
   "outputs": [],
   "source": [
    "# for gran in [plot_gran]:\n",
    "#     df_gran = class_by_gran.get_group(gran)\n",
    "#     modis_data, myd03_data = load_MODIS_granule(gran)a\n",
    "#     date =  df_gran.datetime.iloc[0]\n",
    "#     ascat_data = get_divergence(date)\n",
    "#     ad = ascat_data.sel(longitude=slice(np.min(myd03_data.Longitude.values%360), np.max(myd03_data.Longitude.values%360)), \n",
    "#                         latitude=slice(np.min(myd03_data.Latitude.values), np.max(myd03_data.Latitude.values)),\n",
    "#                         orbit_segment=0)\n",
    "#     a_dates = ad.time.values + (ad.mingmt.values*60*1e3).astype('timedelta64[ms]')\n",
    "#     MERRA_data = get_MERRA(date)"
   ]
  },
  {
   "cell_type": "code",
   "execution_count": 11,
   "metadata": {},
   "outputs": [],
   "source": [
    "# print(f'granule: {dt.datetime.strptime(gran[10:22], \"%Y%j.%H%M\")}')\n",
    "# print(f'classifications: {np.min(df_gran.datetime).to_datetime64()}, {np.max(df_gran.datetime).to_datetime64()}')\n",
    "# print(f'date: {date}')\n",
    "# print(f'ASCAT: {ad.time.values}, {np.min(a_dates)}, {np.max(a_dates)}')"
   ]
  },
  {
   "cell_type": "code",
   "execution_count": 8,
   "metadata": {},
   "outputs": [],
   "source": [
    "df_gran = class_by_gran.get_group(plot_gran)\n",
    "date = df_gran.datetime.iloc[0]\n",
    "precip_data = get_precip(date)"
   ]
  },
  {
   "cell_type": "code",
   "execution_count": 9,
   "metadata": {},
   "outputs": [
    {
     "data": {
      "text/plain": [
       "<xarray.Dataset>\n",
       "Dimensions:     (prob_rate_rwr_max: 4, swath_width: 486, time: 57818, yr_day_utc: 3)\n",
       "Dimensions without coordinates: prob_rate_rwr_max, swath_width, time, yr_day_utc\n",
       "Data variables:\n",
       "    rain_stats  (prob_rate_rwr_max, swath_width, time) float32 ...\n",
       "    latitude    (swath_width, time) float32 ...\n",
       "    longitude   (swath_width, time) float32 ...\n",
       "    time_vars   (yr_day_utc, time) float32 ..."
      ]
     },
     "execution_count": 9,
     "metadata": {},
     "output_type": "execute_result"
    }
   ],
   "source": [
    "precip_data"
   ]
  },
  {
   "cell_type": "code",
   "execution_count": 17,
   "metadata": {},
   "outputs": [
    {
     "data": {
      "text/plain": [
       "[(0.0, 0.0, 0.5, 1.0),\n",
       " (0.0, 0.3, 1.0, 1.0),\n",
       " (0.16129032258064513, 1.0, 0.8064516129032259, 1.0),\n",
       " (0.806451612903226, 1.0, 0.1612903225806449, 1.0),\n",
       " (1.0, 0.40740740740740733, 0.0, 1.0),\n",
       " (0.5, 0.0, 0.0, 1.0)]"
      ]
     },
     "execution_count": 17,
     "metadata": {},
     "output_type": "execute_result"
    }
   ],
   "source": [
    "[mpl.cm.get_cmap('jet', 6)(i) for i in np.linspace(0,1,6)]"
   ]
  },
  {
   "cell_type": "code",
   "execution_count": 14,
   "metadata": {},
   "outputs": [],
   "source": [
    "    colors = [mpl.cm.get_cmap('viridis')(i) for i in np.linspace(0,1,6)]\n"
   ]
  },
  {
   "cell_type": "code",
   "execution_count": 19,
   "metadata": {},
   "outputs": [
    {
     "data": {
      "text/plain": [
       "[(0.267004, 0.004874, 0.329415, 1.0),\n",
       " (0.253935, 0.265254, 0.529983, 1.0),\n",
       " (0.163625, 0.471133, 0.558148, 1.0),\n",
       " (0.134692, 0.658636, 0.517649, 1.0),\n",
       " (0.477504, 0.821444, 0.318195, 1.0),\n",
       " (0.993248, 0.906157, 0.143936, 1.0)]"
      ]
     },
     "execution_count": 19,
     "metadata": {},
     "output_type": "execute_result"
    }
   ],
   "source": [
    "colors"
   ]
  },
  {
   "cell_type": "code",
   "execution_count": null,
   "metadata": {},
   "outputs": [],
   "source": [
    "def plot_granule(plot_gran, latlon_range=None):\n",
    "\n",
    "    df_gran = class_by_gran.get_group(plot_gran)\n",
    "    date = df_gran.datetime.iloc[0]\n",
    "\n",
    "    modis_data, myd03_data = load_MODIS_granule(plot_gran)\n",
    "    ascat_data = get_divergence(date)\n",
    "    MERRA_data = get_MERRA(date)\n",
    "    MERRA_SEP_data = get_SEP_MERRA(date)\n",
    "    amsr_data = get_AMSR(date)\n",
    "    precip_data = get_precip(date)\n",
    "\n",
    "    fig, [[ax0, ax1, ax2], [ax3, ax4, ax5]] = plt.subplots(figsize=(12,12), ncols=3, nrows=2, sharex=True, sharey=True)#, constrained_layout=True)\n",
    "\n",
    "    fig.subplots_adjust(wspace=0.05, hspace=0.05)\n",
    "    mn = []\n",
    "    class_cmap =  mpl.cm.get_cmap('viridis', 6)\n",
    "    colors = [mpl.cm.get_cmap('viridis')(i) for i in np.linspace(0,1,6)]\n",
    "\n",
    "\n",
    "    lats = myd03_data.Latitude.values\n",
    "    lons = myd03_data.Longitude.values%360\n",
    "    zenith = myd03_data.SensorZenith.values\n",
    "    good_rows = np.nonzero(np.all(zenith<45, axis=0))\n",
    "    lats_trim = lats[:,slice(np.min(good_rows), np.max(good_rows))]\n",
    "    lons_trim = lons[:,slice(np.min(good_rows), np.max(good_rows))]\n",
    "    lat_0 = np.mean(lats)\n",
    "    lat_range = np.array([np.min(lats_trim), np.max(lats_trim)])\n",
    "    lon_0 = np.mean(lons)\n",
    "    lon_range = np.array([np.min(lons_trim), np.max(lons_trim)])\n",
    "\n",
    "    if latlon_range:\n",
    "        lat_range = latlon_range['lat']\n",
    "        lon_range = latlon_range['lon']\n",
    "\n",
    "    for ax in fig.axes:\n",
    "        map_kwargs = dict(projection='cyl', resolution='l',\n",
    "                          llcrnrlat=lat_range[0], urcrnrlat=lat_range[1],\n",
    "                          llcrnrlon=lon_range[0], urcrnrlon=lon_range[1],\n",
    "                          lat_0=lat_0, lon_0=lon_0)\n",
    "        m = Basemap(**map_kwargs, ax=ax)\n",
    "        mn.append(m)\n",
    "        parallels = np.arange(-90.,90,5.)\n",
    "        par_labs = [1, 0, 0, 0] if ax in [ax0, ax3] else [0, 0, 0, 0]\n",
    "        mer_labs = [0, 0, 0, 1] if ax in [ax3, ax4, ax5] else [0, 0, 0, 0]\n",
    "        m.drawparallels(parallels,labels=par_labs)\n",
    "        meridians = np.arange(0.,351.,5.)\n",
    "        m.drawmeridians(meridians,labels=mer_labs)\n",
    "        m.drawcoastlines()\n",
    "        m.drawcountries()\n",
    "\n",
    "        cat_color = [utils.ordering.index(i) for i in df_gran.cat]\n",
    "\n",
    "#         if ax == ax0:\n",
    "#             m.scatter(lons[112::128,:], lats[112::128,:], c='w', s=0.3, latlon=True, zorder=8)\n",
    "#             m.scatter(lons[:,64::128], lats[:,64::128], c='w', s=0.3, latlon=True, zorder=8)\n",
    "        sc = m.scatter(df_gran.lon%360, df_gran.lat, c=cat_color, cmap=class_cmap, s=40, latlon=True, vmin=-0.5, vmax=5.5,\n",
    "                      zorder=10, edgecolors='k', alpha=0.8)\n",
    "\n",
    "    #plot 0: Reflectance with classifications\n",
    "    rgb = get_rgb_reflectance(modis_data)\n",
    "    mesh_rgb = rgb[:, :-1, :] #this also does magic\n",
    "    colorTuple = mesh_rgb.reshape((mesh_rgb.shape[0] * mesh_rgb.shape[1]), 3)\n",
    "    colorTuple = np.insert(colorTuple,3,1.0,axis=1) #this does magic\n",
    "    mn[0].pcolormesh(lons, lats, rgb[:,:,1], latlon=True,color=colorTuple)\n",
    "    ax0c, _ = make_axes(ax0, location='top', pad=0.1, shrink=0.9)\n",
    "    ax0c.axis('off')\n",
    "    legend_elements = [mpl.lines.Line2D([0], [0], marker='o', linestyle=\"None\", mfc=colors[i], mec='w', label=utils.short_labels[c], alpha=0.8) \n",
    "                       for i,c in enumerate(utils.ordering)]\n",
    "    ax0c.legend(handles=legend_elements, loc='lower left', bbox_to_anchor= (0.0, 0.0), fontsize=11, ncol=2, \n",
    "               borderaxespad=0, frameon=True, handletextpad=0.3, columnspacing=0.5, facecolor='gainsboro')\n",
    "\n",
    "    # plot 1: ASCAT divergence\n",
    "    ax1c, _ = make_axes(ax1, location='top', pad=0.1, shrink=0.9)\n",
    "    ax1.set_facecolor('gainsboro')\n",
    "    pc = mn[1].pcolormesh(ascat_data.longitude%360, ascat_data.latitude, ascat_data.div.sel(orbit_segment=0)*1e6,\n",
    "                    vmin=-40, vmax=40, cmap='bwr')\n",
    "    cb = fig.colorbar(pc, cax=ax1c, orientation='horizontal')\n",
    "    cb.set_label('ASCAT sfc. div. ($10^{-6}$ s$^{-1}$)')\n",
    "    ax1c.xaxis.tick_top()\n",
    "    ax1c.xaxis.set_label_position('top') \n",
    "\n",
    "    #plot 2: MERRA surface divergence\n",
    "    ax2c, _ = make_axes(ax2, location='top', pad=0.1, shrink=0.9)\n",
    "    pc = mn[2].pcolormesh(MERRA_data.lon%360, MERRA_data.lat, MERRA_data.sfc_div*1e6,\n",
    "                    vmin=-40, vmax=40, cmap='bwr')\n",
    "    pc2 = mn[2].pcolormesh(MERRA_SEP_data.lon%360, MERRA_SEP_data.lat, MERRA_SEP_data.sfc_div*1e6,\n",
    "                    vmin=-40, vmax=40, cmap='bwr')\n",
    "    cb = plt.colorbar(pc, cax=ax2c, orientation='horizontal')\n",
    "    cb.set_label('MERRA sfc. div ($10^{-6}$ s$^{-1}$)')\n",
    "    ax2c.xaxis.tick_top()\n",
    "    ax2c.xaxis.set_label_position('top') \n",
    "\n",
    "    #plot 3: AMSR-based precip\n",
    "    ax3c, _ = make_axes(ax3, location='bottom', pad=0.1, shrink=0.9)\n",
    "    ax3.set_facecolor('gainsboro')\n",
    "    x = precip_data.longitude.values%360\n",
    "    y = precip_data.latitude.values\n",
    "    z= precip_data.rain_stats.isel(prob_rate_rwr_max=1).values\n",
    "    z[np.isnan(x)] = np.nan\n",
    "    z[np.isnan(y)] = np.nan\n",
    "    x[np.isnan(x)] = 1\n",
    "    y[np.isnan(y)] = 1\n",
    "    pc = mn[3].pcolormesh(x, y, z, cmap='Reds', vmin=0, vmax=4)\n",
    "    cb = fig.colorbar(pc, cax=ax3c, orientation='horizontal')\n",
    "    cb.set_label('AMSR precip rate (mm hr$^{-1}$)')\n",
    "\n",
    "    #plot 4: AMSR CWV\n",
    "    ax4c, _ = make_axes(ax4, location='bottom', pad=0.1, shrink=0.9)\n",
    "    ax4.set_facecolor('gainsboro')\n",
    "    pc = mn[4].pcolormesh(amsr_data.longitude%360, amsr_data.latitude, amsr_data, cmap='Blues')\n",
    "    cb = plt.colorbar(pc, cax=ax4c, orientation='horizontal')\n",
    "    cb.set_label('AMSR CWV (kg m$^{-2}$)')\n",
    "\n",
    "    #plot 5: MERRA 700mb divergence\n",
    "    ax5c, _ = make_axes(ax5, location='bottom', pad=0.1, shrink=0.9)\n",
    "    MERRA_subs_700 = -MERRA_data.dzdt.sel(lev=700)/MERRA_data.H.sel(lev=700)\n",
    "    MERRA_SEP_subs_700 = -MERRA_SEP_data.dzdt.sel(lev=700)/MERRA_SEP_data.H.sel(lev=700)\n",
    "    pc = mn[5].pcolormesh(MERRA_data.lon%360, MERRA_data.lat, MERRA_subs_700*1e6,\n",
    "                    vmin=-10, vmax=10, cmap='bwr')\n",
    "    mn[5].pcolormesh(MERRA_SEP_data.lon%360, MERRA_SEP_data.lat, MERRA_SEP_subs_700*1e6,\n",
    "                    vmin=-10, vmax=10, cmap='bwr')\n",
    "    cb = plt.colorbar(pc, cax=ax5c, orientation='horizontal')\n",
    "    cb.set_label('MERRA large-scale div ($10^{-6}$ s$^{-1}$)')\n",
    "#     \n",
    "\n",
    "    for i, axi in enumerate(fig.axes):\n",
    "        if i > 5:\n",
    "            break\n",
    "        letter = chr(ord('a') + i)\n",
    "        axi.text(0.01, 0.99, f'({letter})', fontsize=12, horizontalalignment='left', verticalalignment='top',\n",
    "                 transform=axi.transAxes, zorder=11, backgroundcolor='w')\n",
    "\n",
    "\n",
    "    \n",
    "#     fig.savefig(f'/home/disk/p/jkcm/plots/measures/big_granules/{plot_gran}.png', bbox_inches='tight')\n",
    "    return fig\n",
    "for plot_gran in [best_gran]:\n",
    "    fig = plot_granule(plot_gran, latlon_range={'lat': (13, 22), 'lon': np.array([-146, -134])%360})\n",
    "    fig.set_size_inches(12, 7)\n",
    "#     fig.suptitle(plot_gran, y=1.02)\n",
    "    \n",
    "    fig.savefig(f'/home/disk/p/jkcm/plots/measures/final/{plot_gran}_subset.png', bbox_inches='tight')\n"
   ]
  },
  {
   "cell_type": "code",
   "execution_count": null,
   "metadata": {},
   "outputs": [],
   "source": [
    "print(date)\n",
    "print(MERRA_data.time.values)\n",
    "print(ascat_data.time.values)\n",
    "print(amsr_data.time.values)"
   ]
  },
  {
   "cell_type": "code",
   "execution_count": null,
   "metadata": {},
   "outputs": [],
   "source": [
    "include_divergence = True\n",
    "\n",
    "# for gran in nice_grans[0:1]:\n",
    "for gran in [hurricane_gran]:\n",
    "    df_gran = class_by_gran.get_group(gran)\n",
    "    modis_data, myd03_data = load_MODIS_granule(gran)\n",
    "    rgb = get_rgb_reflectance(modis_data)\n",
    "    lats = myd03_data.Latitude.values\n",
    "    lons = myd03_data.Longitude.values%360\n",
    "    zenith = myd03_data.SensorZenith.values\n",
    "\n",
    "    good_rows = np.nonzero(np.all(zenith<45, axis=0))\n",
    "    lats_trim = lats[:,slice(np.min(good_rows), np.max(good_rows))]\n",
    "    lons_trim = lons[:,slice(np.min(good_rows), np.max(good_rows))]\n",
    "    \n",
    "    if include_divergence:\n",
    "        fig, axn = plt.subplots(figsize=(20, 12), ncols=2, sharex=True, sharey=True)\n",
    "        ax1 = axn[0]\n",
    "    else:\n",
    "        fig, ax1 = plt.subplots(figsize=(10,10))\n",
    "        axn = [ax1]\n",
    "    \n",
    "    lat_0 = np.mean(lats)\n",
    "    lat_range = np.array([np.min(lats_trim), np.max(lats_trim)])\n",
    "    lon_0 = np.mean(lons)\n",
    "    lon_range = np.array([np.min(lons_trim), np.max(lons_trim)])\n",
    "\n",
    "    mn = []\n",
    "    cmap = mpl.cm.get_cmap('gist_ncar', 6)\n",
    "    for ax in axn:\n",
    "        map_kwargs = dict(projection='cyl', resolution='l',\n",
    "                          llcrnrlat=lat_range[0], urcrnrlat=lat_range[1],\n",
    "                          llcrnrlon=lon_range[0], urcrnrlon=lon_range[1],\n",
    "                          lat_0=lat_0, lon_0=lon_0)\n",
    "        m = Basemap(**map_kwargs, ax=ax)\n",
    "        mn.append(m)\n",
    "        parallels = np.arange(-90.,90,5.)\n",
    "        m.drawparallels(parallels,labels=[False,True,True,False])\n",
    "        meridians = np.arange(0.,351.,5.)\n",
    "        m.drawmeridians(meridians,labels=[True,False,False,True])\n",
    "        m.drawcoastlines()\n",
    "        m.drawcountries()\n",
    "\n",
    "        m.scatter(lons[112::128,:], lats[112::128,:], c='w', s=2, latlon=True, zorder=8)\n",
    "        m.scatter(lons[:,64::128], lats[:,64::128], c='w', s=2, latlon=True, zorder=8)\n",
    "        sc = m.scatter(df_gran.lon%360, df_gran.lat, c=df_gran.cat, cmap=cmap, s=80, latlon=True, vmin=-0.5, vmax=5.5,\n",
    "                      zorder=10)\n",
    "        \n",
    "        \n",
    "    mesh_rgb = rgb[:, :-1, :] #this also does magic\n",
    "    colorTuple = mesh_rgb.reshape((mesh_rgb.shape[0] * mesh_rgb.shape[1]), 3)\n",
    "    colorTuple = np.insert(colorTuple,3,1.0,axis=1) #this does magic\n",
    "    mn[0].pcolormesh(lons, lats, rgb[:,:,1], latlon=True,color=colorTuple)\n",
    "    cb = plt.colorbar(sc, ax=ax1, orientation='horizontal')\n",
    "    cb.set_ticks(sorted(utils.short_labels))\n",
    "    cb.set_ticklabels([utils.short_labels[i] for i in cb.get_ticks()])\n",
    "    cb.ax.set_xticklabels(cb.ax.get_xticklabels(), rotation=45)\n",
    "    ax1.set_title(gran)\n",
    "    \n",
    "    if include_divergence:\n",
    "        axn[1].set_facecolor('gainsboro')\n",
    "        date =  df_gran.datetime.iloc[0]\n",
    "        ascat_data = get_divergence(date)\n",
    "        pc = mn[1].pcolormesh(ascat_data.longitude%360, ascat_data.latitude, ascat_data.div.sel(orbit_segment=0)*1e5,\n",
    "                        vmin=-4, vmax=4, cmap='bwr')\n",
    "#         pc = mn[1].pcolormesh(ascat_data.longitude%360, ascat_data.latitude, ascat_data.windspd.sel(orbit_segment=1)*1e5,\n",
    "#                         vmin=0, vmax=15, cmap='reds')\n",
    "        cb = plt.colorbar(pc, ax=axn[1], orientation='horizontal')\n",
    "        cb.set_label('ASCAT divergence ($10^{-5}$ s$^{-1}$)')\n",
    "        axn[1].set_title(f'ASCAT morning div: {str(ascat_data.time.values)[:10]}')\n",
    "     \n",
    "#     fig.savefig(f'/home/disk/p/jkcm/plots/measures/variable_granules/with_div/{gran}_morn.jpg', dpi=100)\n",
    "#     plt.close()\n"
   ]
  },
  {
   "cell_type": "code",
   "execution_count": null,
   "metadata": {},
   "outputs": [],
   "source": [
    "    i=0\n",
    "    lat, lon, time = cset_class_df.lat.iloc[i], cset_class_df.lon.iloc[i], cset_class_df.datetime.iloc[i]\n",
    "    date=time\n",
    "    date_adj = time-np.timedelta64(5, 'h')\n",
    "    scat_data = xr.open_dataset(r'/home/disk/eos9/jkcm/Data/ascat/rss/all/ascat_unified_'+f'{date_adj.year}-{date_adj.month:02}.nc')\n",
    "    scat_data = scat_data.sel(time=(time-np.timedelta64(5, 'h')).date(), method='nearest', orbit_segment=0)\n",
    "    scat_data = utils.get_ascat_divergence(scat_data)\n",
    "    \n",
    "    \n",
    "    xy = scat_data.sel(latitude=slice(lat-0.5, lat+0.5), longitude=slice(lon-0.5, lon+0.5))\n",
    "    if not xy.windspd.ndim == 2:\n",
    "        raise ValueError('hey boss I thought this was gonna only be 2-dimensional.')\n",
    "#     np.nanmean(xy.div.values), np.nanstd(xy.div.values), np.nanmean((xy.time.values-time)/np.timedelta64(1, 'h'))\n",
    "\n",
    "((xy.time.values+(xy.mingmt.values*60*1e3).astype('timedelta64[ms]'))-time.to_datetime64())/np.timedelta64(1, 'h')"
   ]
  },
  {
   "cell_type": "code",
   "execution_count": null,
   "metadata": {},
   "outputs": [],
   "source": [
    "import datetime as dt\n",
    "date = dt.datetime(2015,7,15)"
   ]
  },
  {
   "cell_type": "code",
   "execution_count": null,
   "metadata": {},
   "outputs": [],
   "source": [
    "def get_MERRA_data(date):\n",
    "    MERRA_file = f'/home/disk/eos4/jkcm/Data/CSET/MERRA/sfc/MERRA2_400.inst1_2d_asm_Nx.{date.strftime(\"%Y%m%d\")}.nc4.nc'\n",
    "    MERRA_data = xr.open_dataset(MERRA_file)\n",
    "    MERRA_data['lon'] = MERRA_data.lon%360\n",
    "    MERRA_data['div'] = (('time', 'lat', 'lon'), \n",
    "                         utils.get_div_from_u_v(MERRA_data.U10M, MERRA_data.V10M, MERRA_data.lat.values, MERRA_data.lon.values))\n",
    "    return MERRA_data"
   ]
  },
  {
   "cell_type": "code",
   "execution_count": null,
   "metadata": {},
   "outputs": [],
   "source": [
    "MERRA_data.div"
   ]
  },
  {
   "cell_type": "code",
   "execution_count": null,
   "metadata": {},
   "outputs": [],
   "source": [
    "\n",
    "for date in [date]:\n",
    "    ascat_data = get_divergence(date)\n",
    "    MERRA_data = get_MERRA_data(date)\n",
    "    MERRA_data = MERRA_data.sel(time=\n",
    "    lats = MERRA_data.lat\n",
    "    lons = MERRA_data.lon\n",
    "    lat_0 = np.mean(lats)\n",
    "    lat_range = np.array([np.min(lats_trim), np.max(lats_trim)])\n",
    "    lon_0 = np.mean(lons)\n",
    "    lon_range = np.array([np.min(lons_trim), np.max(lons_trim)])\n",
    "\n",
    "    mn = []\n",
    "    fig, axn = plt.subplots(figsize=(20, 12), ncols=2, sharex=True, sharey=True)\n",
    "    for ax in axn:\n",
    "        map_kwargs = dict(projection='cyl', resolution='l',\n",
    "                          llcrnrlat=lat_range[0], urcrnrlat=lat_range[1],\n",
    "                          llcrnrlon=lon_range[0], urcrnrlon=lon_range[1],\n",
    "                          lat_0=lat_0, lon_0=lon_0)\n",
    "        m = Basemap(**map_kwargs, ax=ax)\n",
    "        mn.append(m)\n",
    "        parallels = np.arange(-90.,90,5.)\n",
    "        m.drawparallels(parallels,labels=[False,True,True,False])\n",
    "        meridians = np.arange(0.,351.,5.)\n",
    "        m.drawmeridians(meridians,labels=[True,False,False,True])\n",
    "        m.drawcoastlines()\n",
    "        m.drawcountries()\n",
    "    \n",
    "    axn[1].set_facecolor('gainsboro')\n",
    "    pc = mn[1].pcolormesh(ascat_data.longitude%360, ascat_data.latitude, ascat_data.div.sel(orbit_segment=0)*1e5,\n",
    "                    vmin=-4, vmax=4, cmap='bwr')\n",
    "    cb = plt.colorbar(pc, ax=axn[1], orientation='horizontal')\n",
    "    cb.set_label('ASCAT divergence ($10^{-5}$ s$^{-1}$)')\n",
    "    axn[1].set_title(f'ASCAT morning div: {str(ascat_data.time.values)[:10]}')\n",
    "\n",
    "    axn[0].set_facecolor('gainsboro')\n",
    "    pc = mn[0].pcolormesh(MERRA_data.lon%360, MERRA_data.lat, ascat_data.div.sel(orbit_segment=0)*1e5,\n",
    "                    vmin=-4, vmax=4, cmap='bwr')\n",
    "    cb = plt.colorbar(pc, ax=axn[1], orientation='horizontal')\n",
    "    cb.set_label('ASCAT divergence ($10^{-5}$ s$^{-1}$)')\n",
    "    axn[1].set_title(f'ASCAT morning div: {str(ascat_data.time.values)[:10]}')\n",
    "\n",
    "    fig.savefig(f'/home/disk/p/jkcm/plots/measures/variable_granules/with_div/{gran}_MERRA_ASCAT.jpg', dpi=100)\n",
    "    plt.close()\n"
   ]
  },
  {
   "cell_type": "code",
   "execution_count": null,
   "metadata": {},
   "outputs": [],
   "source": [
    "import glob"
   ]
  },
  {
   "cell_type": "code",
   "execution_count": null,
   "metadata": {},
   "outputs": [],
   "source": [
    "sfcs = glob.glob(r'/home/disk/eos4/jkcm/Data/MERRA/sfc/*.nc4')\n",
    "pres = glob.glob(r'/home/disk/eos4/jkcm/Data/MERRA/pressure/*.nc')"
   ]
  },
  {
   "cell_type": "code",
   "execution_count": null,
   "metadata": {},
   "outputs": [],
   "source": [
    "p1 = [i[-15:-7] for i in pres]\n",
    "s1 = [i[-16:-8] for i in sfcs]\n",
    "missing_files = [i for i in s1 if i not in p1]"
   ]
  },
  {
   "cell_type": "code",
   "execution_count": null,
   "metadata": {},
   "outputs": [],
   "source": [
    "textfile = glob.glob(r'/home/disk/eos4/jkcm/Data/MERRA/pressure/*.txt')[0]\n",
    "newfile = textfile[:-4]+'_updated.txt'"
   ]
  },
  {
   "cell_type": "code",
   "execution_count": null,
   "metadata": {},
   "outputs": [],
   "source": [
    "with open(textfile, 'rb') as infile, open(newfile, 'wb') as outfile:\n",
    "    mc=0\n",
    "    lines = infile.readlines()\n",
    "    for l in lines[1:]:\n",
    "        f = str(l).split('SHORTNAME')[0].split('LABEL')[1]\n",
    "        if f[-16:-8] in missing_files:\n",
    "            outfile.write(l)"
   ]
  },
  {
   "cell_type": "code",
   "execution_count": null,
   "metadata": {},
   "outputs": [],
   "source": [
    "textfile"
   ]
  }
 ],
 "metadata": {
  "kernelspec": {
   "display_name": "Python [conda env:classified-cset]",
   "language": "python",
   "name": "conda-env-classified-cset-py"
  },
  "language_info": {
   "codemirror_mode": {
    "name": "ipython",
    "version": 3
   },
   "file_extension": ".py",
   "mimetype": "text/x-python",
   "name": "python",
   "nbconvert_exporter": "python",
   "pygments_lexer": "ipython3",
   "version": "3.7.6"
  }
 },
 "nbformat": 4,
 "nbformat_minor": 4
}
