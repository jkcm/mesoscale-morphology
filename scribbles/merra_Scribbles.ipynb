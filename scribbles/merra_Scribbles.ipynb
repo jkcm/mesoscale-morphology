{
 "cells": [
  {
   "cell_type": "code",
   "execution_count": 3,
   "metadata": {},
   "outputs": [
    {
     "name": "stdout",
     "output_type": "stream",
     "text": [
      "bernana!\n"
     ]
    }
   ],
   "source": [
    "import xarray as xr\n",
    "print('bernana!')"
   ]
  },
  {
   "cell_type": "code",
   "execution_count": 4,
   "metadata": {},
   "outputs": [],
   "source": [
    "testfile = '/home/disk/eos4/jkcm/Data/MERRA/raw/inst3_3d_aer_Nv/svc_MERRA2_400.inst3_3d_aer_Nv.20151217.nc4'"
   ]
  },
  {
   "cell_type": "code",
   "execution_count": 6,
   "metadata": {},
   "outputs": [],
   "source": [
    "ds = xr.open_dataset(testfile)"
   ]
  },
  {
   "cell_type": "code",
   "execution_count": 7,
   "metadata": {},
   "outputs": [
    {
     "data": {
      "text/plain": [
       "<xarray.Dataset>\n",
       "Dimensions:    (bnds: 2, lat: 144, lev: 2, lon: 288, time: 1)\n",
       "Coordinates:\n",
       "  * lat        (lat) float64 -89.38 -88.12 -86.88 -85.62 ... 86.88 88.12 89.38\n",
       "  * lev        (lev) float64 53.0 67.0\n",
       "  * lon        (lon) float64 -179.4 -178.1 -176.9 -175.6 ... 176.9 178.1 179.4\n",
       "  * time       (time) datetime64[ns] 2015-12-17T10:30:00\n",
       "Dimensions without coordinates: bnds\n",
       "Data variables:\n",
       "    AIRDENS    (time, lev, lat, lon) float32 ...\n",
       "    BCPHILIC   (time, lev, lat, lon) float32 ...\n",
       "    BCPHOBIC   (time, lev, lat, lon) float32 ...\n",
       "    DELP       (time, lev, lat, lon) float32 ...\n",
       "    DMS        (time, lev, lat, lon) float32 ...\n",
       "    DU001      (time, lev, lat, lon) float32 ...\n",
       "    DU002      (time, lev, lat, lon) float32 ...\n",
       "    DU003      (time, lev, lat, lon) float32 ...\n",
       "    DU004      (time, lev, lat, lon) float32 ...\n",
       "    DU005      (time, lev, lat, lon) float32 ...\n",
       "    MSA        (time, lev, lat, lon) float32 ...\n",
       "    OCPHILIC   (time, lev, lat, lon) float32 ...\n",
       "    OCPHOBIC   (time, lev, lat, lon) float32 ...\n",
       "    RH         (time, lev, lat, lon) float32 ...\n",
       "    SO2        (time, lev, lat, lon) float32 ...\n",
       "    SO4        (time, lev, lat, lon) float32 ...\n",
       "    SS001      (time, lev, lat, lon) float32 ...\n",
       "    SS002      (time, lev, lat, lon) float32 ...\n",
       "    SS003      (time, lev, lat, lon) float32 ...\n",
       "    SS004      (time, lev, lat, lon) float32 ...\n",
       "    SS005      (time, lev, lat, lon) float32 ...\n",
       "    time_bnds  (time, bnds) datetime64[ns] ...\n",
       "Attributes:\n",
       "    CDI:                               Climate Data Interface version 1.6.9 (...\n",
       "    history:                           Sat Feb  6 10:28:04 2016: /usr/bin/nck...\n",
       "    Conventions:                       CF-1\n",
       "    History:                           Original file generated: Fri Jan  1 21...\n",
       "    Comment:                           GMAO filename: d5124_m2_jan10.inst3_3d...\n",
       "    Filename:                          MERRA2_400.inst3_3d_aer_Nv.20151217.nc4\n",
       "    Institution:                       NASA Global Modeling and Assimilation ...\n",
       "    References:                        http://gmao.gsfc.nasa.gov\n",
       "    Format:                            NetCDF-4/HDF-5\n",
       "    SpatialCoverage:                   global\n",
       "    VersionID:                         5.12.4\n",
       "    TemporalRange:                     1980-01-01 -> 2016-12-31\n",
       "    identifier_product_doi_authority:  http://dx.doi.org/\n",
       "    ShortName:                         M2I3NVAER\n",
       "    GranuleID:                         MERRA2_400.inst3_3d_aer_Nv.20151217.nc4\n",
       "    ProductionDateTime:                Original file generated: Fri Jan  1 21...\n",
       "    LongName:                          MERRA2 inst3_3d_aer_Nv: 3d,3-Hourly,In...\n",
       "    Title:                             MERRA2 inst3_3d_aer_Nv: 3d,3-Hourly,In...\n",
       "    SouthernmostLatitude:              -90.0\n",
       "    NorthernmostLatitude:              90.0\n",
       "    WesternmostLongitude:              -180.0\n",
       "    EasternmostLongitude:              179.375\n",
       "    LatitudeResolution:                0.5\n",
       "    LongitudeResolution:               0.625\n",
       "    DataResolution:                    0.5 x 0.625 (72 native layers)\n",
       "    Contact:                           http://gmao.gsfc.nasa.gov\n",
       "    identifier_product_doi:            10.5067/LTVB4GPCOTK2\n",
       "    RangeBeginningDate:                2015-12-17\n",
       "    RangeBeginningTime:                00:00:00.000000\n",
       "    RangeEndingDate:                   2015-12-17\n",
       "    RangeEndingTime:                   21:00:00.000000\n",
       "    CDO:                               Climate Data Operators version 1.6.9 (...\n",
       "    NCO:                               20160206\n",
       "    nco_openmp_thread_number:          1"
      ]
     },
     "execution_count": 7,
     "metadata": {},
     "output_type": "execute_result"
    }
   ],
   "source": [
    "ds"
   ]
  },
  {
   "cell_type": "code",
   "execution_count": null,
   "metadata": {},
   "outputs": [],
   "source": []
  }
 ],
 "metadata": {
  "kernelspec": {
   "display_name": "classified-cset",
   "language": "python",
   "name": "classified-cset"
  },
  "language_info": {
   "codemirror_mode": {
    "name": "ipython",
    "version": 3
   },
   "file_extension": ".py",
   "mimetype": "text/x-python",
   "name": "python",
   "nbconvert_exporter": "python",
   "pygments_lexer": "ipython3",
   "version": "3.7.6"
  }
 },
 "nbformat": 4,
 "nbformat_minor": 4
}
