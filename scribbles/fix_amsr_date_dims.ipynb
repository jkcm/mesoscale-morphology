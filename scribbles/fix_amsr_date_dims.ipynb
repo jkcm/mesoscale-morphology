{
 "cells": [
  {
   "cell_type": "code",
   "execution_count": 1,
   "metadata": {},
   "outputs": [],
   "source": [
    "import xarray as xr\n",
    "import numpy as np\n",
    "from regrid_rain_rate import *\n",
    "from collections import Counter\n",
    "import pandas as pd\n",
    "from utils import LoopTimer\n",
    "import matplotlib as mpl\n",
    "from itertools import product \n",
    "import datetime as dt\n",
    "%load_ext autoreload\n",
    "%autoreload 2"
   ]
  },
  {
   "cell_type": "code",
   "execution_count": 3,
   "metadata": {},
   "outputs": [
    {
     "name": "stdout",
     "output_type": "stream",
     "text": [
      "0.55%      ETA 01:11:18      time left: 5.7 minutes        "
     ]
    },
    {
     "name": "stderr",
     "output_type": "stream",
     "text": [
      "/home/disk/p/jkcm/anaconda3/envs/classified-cset/lib/python3.7/site-packages/h5netcdf/core.py:481: H5pyDeprecationWarning: other_ds.dims.create_scale(ds, name) is deprecated. Use ds.make_scale(name) instead.\n",
      "  h5ds.dims.create_scale(h5ds, scale_name)\n"
     ]
    },
    {
     "name": "stdout",
     "output_type": "stream",
     "text": [
      "100.00%      ETA 01:18:38      time left: 0 seconds          "
     ]
    }
   ],
   "source": [
    "files_to_fix = glob.glob('/home/disk/eos9/jkcm/Data/rain/2015/AMSR2_89GHz_pcp_est_2015_*_day_gridded.nc')\n",
    "lt = LoopTimer(len(files_to_fix))\n",
    "for f in files_to_fix:\n",
    "    lt.update()\n",
    "    date = dt.datetime.strptime(os.path.basename(f)[20:28], '%Y_%j')\n",
    "    sample = xr.open_dataset(f)\n",
    "    if 'date' in sample.dims:\n",
    "        continue\n",
    "    else:\n",
    "        sample = sample.expand_dims({'date': [date]})\n",
    "        save_name = os.path.join(os.path.dirname(f), 'proc', os.path.basename(f))\n",
    "        comp = dict(zlib=True, complevel=2)\n",
    "        sample.to_netcdf(save_name, engine='h5netcdf', encoding={var: comp for var in sample.data_vars})\n"
   ]
  },
  {
   "cell_type": "code",
   "execution_count": null,
   "metadata": {},
   "outputs": [],
   "source": []
  }
 ],
 "metadata": {
  "kernelspec": {
   "display_name": "Python [conda env:classified-cset]",
   "language": "python",
   "name": "conda-env-classified-cset-py"
  },
  "language_info": {
   "codemirror_mode": {
    "name": "ipython",
    "version": 3
   },
   "file_extension": ".py",
   "mimetype": "text/x-python",
   "name": "python",
   "nbconvert_exporter": "python",
   "pygments_lexer": "ipython3",
   "version": "3.7.6"
  }
 },
 "nbformat": 4,
 "nbformat_minor": 4
}
